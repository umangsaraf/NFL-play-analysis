{
 "cells": [
  {
   "cell_type": "code",
   "execution_count": 807,
   "metadata": {},
   "outputs": [],
   "source": [
    "import pandas as pd \n",
    "import matplotlib.pyplot as plt\n",
    "import numpy as np\n",
    "from matplotlib import rc\n",
    "import pylab as plt\n",
    "from collections import defaultdict\n",
    "from sklearn.preprocessing import OneHotEncoder\n",
    "from sklearn.impute import SimpleImputer\n",
    "from sklearn.preprocessing import StandardScaler\n",
    "from sklearn.linear_model import LogisticRegression\n",
    "from sklearn.compose import ColumnTransformer\n",
    "from sklearn.model_selection import train_test_split\n",
    "from sklearn.pipeline import Pipeline\n",
    "from sklearn.svm import LinearSVC\n",
    "from sklearn.ensemble import RandomForestClassifier\n",
    "from sklearn.neural_network import MLPClassifier\n"
   ]
  },
  {
   "cell_type": "markdown",
   "metadata": {},
   "source": [
    "## Training set"
   ]
  },
  {
   "cell_type": "code",
   "execution_count": 689,
   "metadata": {},
   "outputs": [
    {
     "data": {
      "text/html": [
       "<div>\n",
       "<style scoped>\n",
       "    .dataframe tbody tr th:only-of-type {\n",
       "        vertical-align: middle;\n",
       "    }\n",
       "\n",
       "    .dataframe tbody tr th {\n",
       "        vertical-align: top;\n",
       "    }\n",
       "\n",
       "    .dataframe thead th {\n",
       "        text-align: right;\n",
       "    }\n",
       "</style>\n",
       "<table border=\"1\" class=\"dataframe\">\n",
       "  <thead>\n",
       "    <tr style=\"text-align: right;\">\n",
       "      <th></th>\n",
       "      <th>play_id</th>\n",
       "      <th>game_id</th>\n",
       "      <th>home_team</th>\n",
       "      <th>away_team</th>\n",
       "      <th>posteam</th>\n",
       "      <th>posteam_type</th>\n",
       "      <th>defteam</th>\n",
       "      <th>side_of_field</th>\n",
       "      <th>yardline_100</th>\n",
       "      <th>game_date</th>\n",
       "      <th>...</th>\n",
       "      <th>replay_or_challenge</th>\n",
       "      <th>replay_or_challenge_result</th>\n",
       "      <th>penalty_type</th>\n",
       "      <th>defensive_two_point_attempt</th>\n",
       "      <th>defensive_two_point_conv</th>\n",
       "      <th>defensive_extra_point_attempt</th>\n",
       "      <th>defensive_extra_point_conv</th>\n",
       "      <th>month</th>\n",
       "      <th>year</th>\n",
       "      <th>day</th>\n",
       "    </tr>\n",
       "  </thead>\n",
       "  <tbody>\n",
       "    <tr>\n",
       "      <th>1</th>\n",
       "      <td>68</td>\n",
       "      <td>2009091000</td>\n",
       "      <td>PIT</td>\n",
       "      <td>TEN</td>\n",
       "      <td>PIT</td>\n",
       "      <td>home</td>\n",
       "      <td>TEN</td>\n",
       "      <td>PIT</td>\n",
       "      <td>58.0</td>\n",
       "      <td>2009-09-10</td>\n",
       "      <td>...</td>\n",
       "      <td>0</td>\n",
       "      <td>NaN</td>\n",
       "      <td>NaN</td>\n",
       "      <td>0.0</td>\n",
       "      <td>0.0</td>\n",
       "      <td>0.0</td>\n",
       "      <td>0.0</td>\n",
       "      <td>09</td>\n",
       "      <td>2009</td>\n",
       "      <td>10</td>\n",
       "    </tr>\n",
       "    <tr>\n",
       "      <th>2</th>\n",
       "      <td>92</td>\n",
       "      <td>2009091000</td>\n",
       "      <td>PIT</td>\n",
       "      <td>TEN</td>\n",
       "      <td>PIT</td>\n",
       "      <td>home</td>\n",
       "      <td>TEN</td>\n",
       "      <td>PIT</td>\n",
       "      <td>53.0</td>\n",
       "      <td>2009-09-10</td>\n",
       "      <td>...</td>\n",
       "      <td>0</td>\n",
       "      <td>NaN</td>\n",
       "      <td>NaN</td>\n",
       "      <td>0.0</td>\n",
       "      <td>0.0</td>\n",
       "      <td>0.0</td>\n",
       "      <td>0.0</td>\n",
       "      <td>09</td>\n",
       "      <td>2009</td>\n",
       "      <td>10</td>\n",
       "    </tr>\n",
       "    <tr>\n",
       "      <th>3</th>\n",
       "      <td>113</td>\n",
       "      <td>2009091000</td>\n",
       "      <td>PIT</td>\n",
       "      <td>TEN</td>\n",
       "      <td>PIT</td>\n",
       "      <td>home</td>\n",
       "      <td>TEN</td>\n",
       "      <td>PIT</td>\n",
       "      <td>56.0</td>\n",
       "      <td>2009-09-10</td>\n",
       "      <td>...</td>\n",
       "      <td>0</td>\n",
       "      <td>NaN</td>\n",
       "      <td>NaN</td>\n",
       "      <td>0.0</td>\n",
       "      <td>0.0</td>\n",
       "      <td>0.0</td>\n",
       "      <td>0.0</td>\n",
       "      <td>09</td>\n",
       "      <td>2009</td>\n",
       "      <td>10</td>\n",
       "    </tr>\n",
       "    <tr>\n",
       "      <th>4</th>\n",
       "      <td>139</td>\n",
       "      <td>2009091000</td>\n",
       "      <td>PIT</td>\n",
       "      <td>TEN</td>\n",
       "      <td>PIT</td>\n",
       "      <td>home</td>\n",
       "      <td>TEN</td>\n",
       "      <td>PIT</td>\n",
       "      <td>56.0</td>\n",
       "      <td>2009-09-10</td>\n",
       "      <td>...</td>\n",
       "      <td>0</td>\n",
       "      <td>NaN</td>\n",
       "      <td>NaN</td>\n",
       "      <td>0.0</td>\n",
       "      <td>0.0</td>\n",
       "      <td>0.0</td>\n",
       "      <td>0.0</td>\n",
       "      <td>09</td>\n",
       "      <td>2009</td>\n",
       "      <td>10</td>\n",
       "    </tr>\n",
       "    <tr>\n",
       "      <th>5</th>\n",
       "      <td>162</td>\n",
       "      <td>2009091000</td>\n",
       "      <td>PIT</td>\n",
       "      <td>TEN</td>\n",
       "      <td>TEN</td>\n",
       "      <td>away</td>\n",
       "      <td>PIT</td>\n",
       "      <td>TEN</td>\n",
       "      <td>98.0</td>\n",
       "      <td>2009-09-10</td>\n",
       "      <td>...</td>\n",
       "      <td>0</td>\n",
       "      <td>NaN</td>\n",
       "      <td>NaN</td>\n",
       "      <td>0.0</td>\n",
       "      <td>0.0</td>\n",
       "      <td>0.0</td>\n",
       "      <td>0.0</td>\n",
       "      <td>09</td>\n",
       "      <td>2009</td>\n",
       "      <td>10</td>\n",
       "    </tr>\n",
       "    <tr>\n",
       "      <th>6</th>\n",
       "      <td>183</td>\n",
       "      <td>2009091000</td>\n",
       "      <td>PIT</td>\n",
       "      <td>TEN</td>\n",
       "      <td>TEN</td>\n",
       "      <td>away</td>\n",
       "      <td>PIT</td>\n",
       "      <td>TEN</td>\n",
       "      <td>98.0</td>\n",
       "      <td>2009-09-10</td>\n",
       "      <td>...</td>\n",
       "      <td>0</td>\n",
       "      <td>NaN</td>\n",
       "      <td>NaN</td>\n",
       "      <td>0.0</td>\n",
       "      <td>0.0</td>\n",
       "      <td>0.0</td>\n",
       "      <td>0.0</td>\n",
       "      <td>09</td>\n",
       "      <td>2009</td>\n",
       "      <td>10</td>\n",
       "    </tr>\n",
       "    <tr>\n",
       "      <th>7</th>\n",
       "      <td>207</td>\n",
       "      <td>2009091000</td>\n",
       "      <td>PIT</td>\n",
       "      <td>TEN</td>\n",
       "      <td>TEN</td>\n",
       "      <td>away</td>\n",
       "      <td>PIT</td>\n",
       "      <td>TEN</td>\n",
       "      <td>94.0</td>\n",
       "      <td>2009-09-10</td>\n",
       "      <td>...</td>\n",
       "      <td>0</td>\n",
       "      <td>NaN</td>\n",
       "      <td>NaN</td>\n",
       "      <td>0.0</td>\n",
       "      <td>0.0</td>\n",
       "      <td>0.0</td>\n",
       "      <td>0.0</td>\n",
       "      <td>09</td>\n",
       "      <td>2009</td>\n",
       "      <td>10</td>\n",
       "    </tr>\n",
       "    <tr>\n",
       "      <th>8</th>\n",
       "      <td>228</td>\n",
       "      <td>2009091000</td>\n",
       "      <td>PIT</td>\n",
       "      <td>TEN</td>\n",
       "      <td>TEN</td>\n",
       "      <td>away</td>\n",
       "      <td>PIT</td>\n",
       "      <td>TEN</td>\n",
       "      <td>96.0</td>\n",
       "      <td>2009-09-10</td>\n",
       "      <td>...</td>\n",
       "      <td>0</td>\n",
       "      <td>NaN</td>\n",
       "      <td>NaN</td>\n",
       "      <td>0.0</td>\n",
       "      <td>0.0</td>\n",
       "      <td>0.0</td>\n",
       "      <td>0.0</td>\n",
       "      <td>09</td>\n",
       "      <td>2009</td>\n",
       "      <td>10</td>\n",
       "    </tr>\n",
       "    <tr>\n",
       "      <th>9</th>\n",
       "      <td>253</td>\n",
       "      <td>2009091000</td>\n",
       "      <td>PIT</td>\n",
       "      <td>TEN</td>\n",
       "      <td>PIT</td>\n",
       "      <td>home</td>\n",
       "      <td>TEN</td>\n",
       "      <td>TEN</td>\n",
       "      <td>43.0</td>\n",
       "      <td>2009-09-10</td>\n",
       "      <td>...</td>\n",
       "      <td>0</td>\n",
       "      <td>NaN</td>\n",
       "      <td>NaN</td>\n",
       "      <td>0.0</td>\n",
       "      <td>0.0</td>\n",
       "      <td>0.0</td>\n",
       "      <td>0.0</td>\n",
       "      <td>09</td>\n",
       "      <td>2009</td>\n",
       "      <td>10</td>\n",
       "    </tr>\n",
       "    <tr>\n",
       "      <th>10</th>\n",
       "      <td>277</td>\n",
       "      <td>2009091000</td>\n",
       "      <td>PIT</td>\n",
       "      <td>TEN</td>\n",
       "      <td>PIT</td>\n",
       "      <td>home</td>\n",
       "      <td>TEN</td>\n",
       "      <td>TEN</td>\n",
       "      <td>40.0</td>\n",
       "      <td>2009-09-10</td>\n",
       "      <td>...</td>\n",
       "      <td>0</td>\n",
       "      <td>NaN</td>\n",
       "      <td>NaN</td>\n",
       "      <td>0.0</td>\n",
       "      <td>0.0</td>\n",
       "      <td>0.0</td>\n",
       "      <td>0.0</td>\n",
       "      <td>09</td>\n",
       "      <td>2009</td>\n",
       "      <td>10</td>\n",
       "    </tr>\n",
       "  </tbody>\n",
       "</table>\n",
       "<p>10 rows × 259 columns</p>\n",
       "</div>"
      ],
      "text/plain": [
       "    play_id     game_id home_team away_team posteam posteam_type defteam  \\\n",
       "1        68  2009091000       PIT       TEN     PIT         home     TEN   \n",
       "2        92  2009091000       PIT       TEN     PIT         home     TEN   \n",
       "3       113  2009091000       PIT       TEN     PIT         home     TEN   \n",
       "4       139  2009091000       PIT       TEN     PIT         home     TEN   \n",
       "5       162  2009091000       PIT       TEN     TEN         away     PIT   \n",
       "6       183  2009091000       PIT       TEN     TEN         away     PIT   \n",
       "7       207  2009091000       PIT       TEN     TEN         away     PIT   \n",
       "8       228  2009091000       PIT       TEN     TEN         away     PIT   \n",
       "9       253  2009091000       PIT       TEN     PIT         home     TEN   \n",
       "10      277  2009091000       PIT       TEN     PIT         home     TEN   \n",
       "\n",
       "   side_of_field  yardline_100   game_date ...   replay_or_challenge  \\\n",
       "1            PIT          58.0  2009-09-10 ...                     0   \n",
       "2            PIT          53.0  2009-09-10 ...                     0   \n",
       "3            PIT          56.0  2009-09-10 ...                     0   \n",
       "4            PIT          56.0  2009-09-10 ...                     0   \n",
       "5            TEN          98.0  2009-09-10 ...                     0   \n",
       "6            TEN          98.0  2009-09-10 ...                     0   \n",
       "7            TEN          94.0  2009-09-10 ...                     0   \n",
       "8            TEN          96.0  2009-09-10 ...                     0   \n",
       "9            TEN          43.0  2009-09-10 ...                     0   \n",
       "10           TEN          40.0  2009-09-10 ...                     0   \n",
       "\n",
       "    replay_or_challenge_result  penalty_type defensive_two_point_attempt  \\\n",
       "1                          NaN           NaN                         0.0   \n",
       "2                          NaN           NaN                         0.0   \n",
       "3                          NaN           NaN                         0.0   \n",
       "4                          NaN           NaN                         0.0   \n",
       "5                          NaN           NaN                         0.0   \n",
       "6                          NaN           NaN                         0.0   \n",
       "7                          NaN           NaN                         0.0   \n",
       "8                          NaN           NaN                         0.0   \n",
       "9                          NaN           NaN                         0.0   \n",
       "10                         NaN           NaN                         0.0   \n",
       "\n",
       "    defensive_two_point_conv  defensive_extra_point_attempt  \\\n",
       "1                        0.0                            0.0   \n",
       "2                        0.0                            0.0   \n",
       "3                        0.0                            0.0   \n",
       "4                        0.0                            0.0   \n",
       "5                        0.0                            0.0   \n",
       "6                        0.0                            0.0   \n",
       "7                        0.0                            0.0   \n",
       "8                        0.0                            0.0   \n",
       "9                        0.0                            0.0   \n",
       "10                       0.0                            0.0   \n",
       "\n",
       "    defensive_extra_point_conv  month  year  day  \n",
       "1                          0.0     09  2009   10  \n",
       "2                          0.0     09  2009   10  \n",
       "3                          0.0     09  2009   10  \n",
       "4                          0.0     09  2009   10  \n",
       "5                          0.0     09  2009   10  \n",
       "6                          0.0     09  2009   10  \n",
       "7                          0.0     09  2009   10  \n",
       "8                          0.0     09  2009   10  \n",
       "9                          0.0     09  2009   10  \n",
       "10                         0.0     09  2009   10  \n",
       "\n",
       "[10 rows x 259 columns]"
      ]
     },
     "execution_count": 689,
     "metadata": {},
     "output_type": "execute_result"
    }
   ],
   "source": [
    "for i in range(9,18,1):\n",
    "    if i == 9:\n",
    "        boss_df = pd.read_csv('reg_pbp_200'+str(i)+'.csv')\n",
    "    else:\n",
    "        df = pd.read_csv('reg_pbp_20'+str(i)+'.csv')\n",
    "        boss_df = pd.concat([boss_df,df], axis=0)\n",
    "boss_df = boss_df.dropna(axis=0, subset=['down','posteam'])\n",
    "boss_df['month'] = boss_df['game_date'].apply(lambda x:x.split('-')[1])\n",
    "boss_df['year'] = boss_df['game_date'].apply(lambda x:x.split('-')[0])\n",
    "boss_df['day'] = boss_df['game_date'].apply(lambda x:x.split('-')[2])\n",
    "boss_df = boss_df[boss_df['play_type'] != 'no_play']\n",
    "boss_df.head(10)"
   ]
  },
  {
   "cell_type": "markdown",
   "metadata": {},
   "source": [
    "## Validation set"
   ]
  },
  {
   "cell_type": "code",
   "execution_count": null,
   "metadata": {},
   "outputs": [],
   "source": [
    "df1 = pd.read_csv('reg_pbp_2018.csv')\n",
    "df1 = df1.dropna(axis=0, subset=['down','posteam'])\n",
    "df1['month'] = df1['game_date'].apply(lambda x:x.split('-')[1])\n",
    "df1['year'] = df1['game_date'].apply(lambda x:x.split('-')[0])\n",
    "df1['day'] = df1['game_date'].apply(lambda x:x.split('-')[2])\n",
    "df1 = df1[df1['play_type'] != 'no_play']\n"
   ]
  },
  {
   "cell_type": "code",
   "execution_count": 822,
   "metadata": {},
   "outputs": [],
   "source": [
    "def group_yards(yard):\n",
    "    string = str(int(yard))\n",
    "    if len(string) > 1:\n",
    "        val = string[0]\n",
    "        return val+'0-'+str((int(val)+1)*10)\n",
    "    return '0-10'\n",
    "def group_diff(yard):\n",
    "    for i in range(-20,24,4):\n",
    "        if yard <= i:\n",
    "            return int(i)\n",
    "    return 20\n"
   ]
  },
  {
   "cell_type": "code",
   "execution_count": 823,
   "metadata": {},
   "outputs": [
    {
     "data": {
      "text/plain": [
       " 0     91825\n",
       "-4     48006\n",
       " 4     36027\n",
       " 8     31108\n",
       "-8     23647\n",
       "-12    17868\n",
       " 20    17729\n",
       "-20    17075\n",
       " 12    16861\n",
       " 16    13042\n",
       "-16    11074\n",
       "Name: score_5, dtype: int64"
      ]
     },
     "execution_count": 823,
     "metadata": {},
     "output_type": "execute_result"
    }
   ],
   "source": [
    "boss_df['10yrdrange'] = boss_df['yardline_100'].apply(group_yards) \n",
    "boss_df['score_5']  = boss_df['score_differential'].apply(group_diff)\n",
    "boss_df['minutes_remain'] = boss_df['time'].apply(lambda x:int(x.split(':')[0]))\n",
    "\n",
    "df1['10yrdrange'] = df1['yardline_100'].apply(group_yards)\n",
    "df1['score_5']  = df1['score_differential'].apply(group_diff)\n",
    "df1['minutes_remain'] = df1['time'].apply(lambda x:int(x.split(':')[0]))"
   ]
  },
  {
   "cell_type": "code",
   "execution_count": 812,
   "metadata": {},
   "outputs": [
    {
     "data": {
      "text/plain": [
       "pass          168810\n",
       "run           120631\n",
       "punt           21908\n",
       "field_goal      8894\n",
       "qb_kneel        3403\n",
       "qb_spike         616\n",
       "Name: play_type, dtype: int64"
      ]
     },
     "execution_count": 812,
     "metadata": {},
     "output_type": "execute_result"
    }
   ],
   "source": [
    "boss_df['play_type'].value_counts()"
   ]
  },
  {
   "cell_type": "markdown",
   "metadata": {},
   "source": [
    "https://www.rdocumentation.org/packages/nflscrapR/versions/1.4.0/topics/game_play_by_play"
   ]
  },
  {
   "cell_type": "code",
   "execution_count": 157,
   "metadata": {},
   "outputs": [],
   "source": [
    "after_play_columns = ['sp','play_type','ydsnet', 'air_yards','yards_after_catch','qb_hit','play_type','yards_gained','field_goal_result',\n",
    "                     ]\n",
    "use_ful_col = ['10yrdrange','qtr','down','time','ydstogo','posteam','defteam','game_date','quarter_seconds_remaining','side_of_field',\n",
    "              'yardline_100','goal_to_go','posteam_timeouts_remaining','defteam_timeouts_remaining','score_differential',\n",
    "              'posteam_score','defteam_score',]\n",
    "debate_ = ['no_score_prob',]"
   ]
  },
  {
   "cell_type": "markdown",
   "metadata": {},
   "source": [
    "##### Percentage of play type in each down"
   ]
  },
  {
   "cell_type": "code",
   "execution_count": 813,
   "metadata": {},
   "outputs": [
    {
     "data": {
      "text/plain": [
       "<matplotlib.axes._subplots.AxesSubplot at 0x1d95cd940>"
      ]
     },
     "execution_count": 813,
     "metadata": {},
     "output_type": "execute_result"
    },
    {
     "data": {
      "image/png": "[encoded data removed]",
      "text/plain": [
       "<Figure size 1440x720 with 1 Axes>"
      ]
     },
     "metadata": {
      "needs_background": "light"
     },
     "output_type": "display_data"
    }
   ],
   "source": [
    "d = {}\n",
    "for i in boss_df['down'].value_counts().index:\n",
    "    vals = boss_df['play_type'][boss_df['down'] == i].value_counts().to_dict()\n",
    "    d[i] = (vals)\n",
    "pt_down = pd.DataFrame(d).T\n",
    "pt_down = pt_down.fillna(0)\n",
    "pt_down  =pt_down.div(pt_down.sum(axis=1), axis=0)\n",
    "pt_down.plot(kind='bar', stacked=True, rot=1, figsize=(20, 10),\n",
    "               title=\"Home ownership across Loan Types\")"
   ]
  },
  {
   "cell_type": "code",
   "execution_count": 824,
   "metadata": {},
   "outputs": [
    {
     "data": {
      "text/plain": [
       "<matplotlib.legend.Legend at 0x1c03a2470>"
      ]
     },
     "execution_count": 824,
     "metadata": {},
     "output_type": "execute_result"
    },
    {
     "data": {
      "image/png": "[encoded data removed]",
      "text/plain": [
       "<Figure size 720x720 with 1 Axes>"
      ]
     },
     "metadata": {
      "needs_background": "light"
     },
     "output_type": "display_data"
    }
   ],
   "source": [
    "from pylab import rcParams\n",
    "d = {}\n",
    "for i in boss_df['play_type'].value_counts().index:\n",
    "    vals = boss_df['score_5'][boss_df['play_type'] == i].values\n",
    "    d[i] = vals\n",
    "for i in d.keys():\n",
    "    total = boss_df['score_5'].value_counts().to_dict()\n",
    "    count = pd.Series(d[i]).value_counts().to_dict()\n",
    "    for j in count.keys():\n",
    "        count[j] = count[j]/total[j]\n",
    "    d[i] = count\n",
    "\n",
    "rcParams['figure.figsize'] = 10, 10\n",
    "x = [-20,-16,-12,-8,-4,0,4,8,12,16,20]\n",
    "s = pd.Series(d['pass'])\n",
    "plt.plot(pd.Series(d['pass']), label='pass')\n",
    "plt.plot(pd.Series(d['field_goal']), label='field_goal')\n",
    "plt.plot(pd.Series(d['run']),label='run')\n",
    "plt.plot(pd.Series(d['punt']),label='punt')\n",
    "\n",
    "\n",
    "plt.plot(pd.Series(d['qb_kneel']),label='qb_kneel')\n",
    "\n",
    "plt.plot(pd.Series(d['qb_spike']),label='qb_spike')\n",
    "\n",
    "plt.xticks(x, s.index, rotation='vertical')\n",
    "plt.legend()"
   ]
  },
  {
   "cell_type": "code",
   "execution_count": 817,
   "metadata": {},
   "outputs": [
    {
     "data": {
      "text/plain": [
       "<matplotlib.legend.Legend at 0x1c03a90b8>"
      ]
     },
     "execution_count": 817,
     "metadata": {},
     "output_type": "execute_result"
    },
    {
     "data": {
      "image/png": "[encoded data removed]",
      "text/plain": [
       "<Figure size 720x720 with 1 Axes>"
      ]
     },
     "metadata": {
      "needs_background": "light"
     },
     "output_type": "display_data"
    }
   ],
   "source": [
    "d = {}\n",
    "for i in boss_df['play_type'].value_counts().index:\n",
    "    vals = boss_df['10yrdrange'][boss_df['play_type'] == i].values\n",
    "    d[i] = vals\n",
    "for i in d.keys():\n",
    "    total = boss_df['10yrdrange'].value_counts().to_dict()\n",
    "    count = pd.Series(d[i]).value_counts().to_dict()\n",
    "    for j in count.keys():\n",
    "        count[j] = count[j]/total[j]\n",
    "    d[i] = count\n",
    "    \n",
    "rcParams['figure.figsize'] = 10, 10\n",
    "x = [0,1,2,3,4,5,6,7,8,9]\n",
    "s = pd.Series(d['pass'])\n",
    "plt.plot(pd.Series(d['pass']), label='pass')\n",
    "plt.plot(pd.Series(d['field_goal']), label='field_goal')\n",
    "plt.plot(pd.Series(d['run']),label='run')\n",
    "plt.plot(pd.Series(d['punt']),label='punt')\n",
    "\n",
    "\n",
    "plt.plot(pd.Series(d['qb_kneel']),label='qb_kneel')\n",
    "\n",
    "plt.plot(pd.Series(d['qb_spike']),label='qb_spike')\n",
    "\n",
    "plt.xticks(x, s.index, rotation='vertical')\n",
    "plt.legend()"
   ]
  },
  {
   "cell_type": "code",
   "execution_count": 818,
   "metadata": {},
   "outputs": [
    {
     "data": {
      "text/plain": [
       "<matplotlib.legend.Legend at 0x1c03bae10>"
      ]
     },
     "execution_count": 818,
     "metadata": {},
     "output_type": "execute_result"
    },
    {
     "data": {
      "image/png": "[encoded data removed]",
      "text/plain": [
       "<Figure size 720x720 with 1 Axes>"
      ]
     },
     "metadata": {
      "needs_background": "light"
     },
     "output_type": "display_data"
    }
   ],
   "source": [
    "\n",
    "d = {}\n",
    "for i in boss_df['play_type'].value_counts().index:\n",
    "    vals = boss_df['minutes_remain'][boss_df['play_type'] == i].values\n",
    "    d[i] = vals\n",
    "for i in d.keys():\n",
    "    total = boss_df['minutes_remain'].value_counts().to_dict()\n",
    "    count = pd.Series(d[i]).value_counts().to_dict()\n",
    "    for j in count.keys():\n",
    "        count[j] = count[j]/total[j]\n",
    "    d[i] = count\n",
    "    \n",
    "rcParams['figure.figsize'] = 10, 10\n",
    "x = [0,1,2,3,4,5,6,7,8,9,10,11,12,13,14,15]\n",
    "s = pd.Series(d['pass'])\n",
    "plt.plot(pd.Series(d['pass']), label='pass')\n",
    "plt.plot(pd.Series(d['field_goal']), label='field_goal')\n",
    "plt.plot(pd.Series(d['run']),label='run')\n",
    "plt.plot(pd.Series(d['punt']),label='punt')\n",
    "\n",
    "\n",
    "plt.plot(pd.Series(d['qb_kneel']),label='qb_kneel')\n",
    "\n",
    "plt.plot(pd.Series(d['qb_spike']),label='qb_spike')\n",
    "\n",
    "plt.xticks(x, s.index, rotation='vertical')\n",
    "plt.legend()"
   ]
  },
  {
   "cell_type": "code",
   "execution_count": 819,
   "metadata": {},
   "outputs": [
    {
     "data": {
      "text/plain": [
       "<matplotlib.axes._subplots.AxesSubplot at 0x1bb98cf98>"
      ]
     },
     "execution_count": 819,
     "metadata": {},
     "output_type": "execute_result"
    },
    {
     "data": {
      "image/png": "[encoded data removed]",
      "text/plain": [
       "<Figure size 1440x720 with 1 Axes>"
      ]
     },
     "metadata": {
      "needs_background": "light"
     },
     "output_type": "display_data"
    }
   ],
   "source": [
    "d = {}\n",
    "for i in boss_df['goal_to_go'].value_counts().index:\n",
    "    vals = boss_df['play_type'][boss_df['goal_to_go'] == i].value_counts().to_dict()\n",
    "    d[i] = (vals)\n",
    "pt_down = pd.DataFrame(d).T\n",
    "pt_down = pt_down.fillna(0)\n",
    "pt_down  =pt_down.div(pt_down.sum(axis=1), axis=0)\n",
    "pt_down.plot(kind='bar', stacked=True, rot=1, figsize=(20, 10),\n",
    "               title=\"Home ownership across Loan Types\")"
   ]
  },
  {
   "cell_type": "code",
   "execution_count": 382,
   "metadata": {},
   "outputs": [
    {
     "data": {
      "text/plain": [
       "[74.07407407407408,\n",
       " 4.761904761904762,\n",
       " 23.333333333333332,\n",
       " 40.0,\n",
       " 16.666666666666664]"
      ]
     },
     "execution_count": 382,
     "metadata": {},
     "output_type": "execute_result"
    }
   ],
   "source": [
    "greenBars"
   ]
  },
  {
   "cell_type": "code",
   "execution_count": 510,
   "metadata": {},
   "outputs": [],
   "source": [
    "#df[['ep','epa','total_home_epa',\n",
    "#'total_away_epa','sp','yardline_100','ydstogo','no_score_prob','play_type','down','time','posteam_score','defteam_score','score_differential']][df['play_type']=='punt']"
   ]
  },
  {
   "cell_type": "code",
   "execution_count": 825,
   "metadata": {},
   "outputs": [],
   "source": [
    "\n",
    "use_ful_col = ['10yrdrange','score_5','minutes_remain','qtr','down','ydstogo','posteam','defteam','quarter_seconds_remaining',\n",
    "              'yardline_100','goal_to_go','posteam_timeouts_remaining','defteam_timeouts_remaining','score_differential',\n",
    "              'posteam_score','defteam_score','month','year','day','home_team','away_team','no_score_prob',\n",
    "              'total_home_epa','total_away_epa','fg_prob','td_prob','total_home_rush_epa',\n",
    "                'total_away_rush_epa','total_home_pass_epa','total_away_pass_epa']\n",
    "new_df = boss_df[use_ful_col]\n",
    "new_df1 = df1[use_ful_col]\n"
   ]
  },
  {
   "cell_type": "code",
   "execution_count": 763,
   "metadata": {},
   "outputs": [
    {
     "data": {
      "text/plain": [
       "1080"
      ]
     },
     "execution_count": 763,
     "metadata": {},
     "output_type": "execute_result"
    }
   ],
   "source": [
    "new_df1['score_5'].isna().sum()"
   ]
  },
  {
   "cell_type": "code",
   "execution_count": 826,
   "metadata": {},
   "outputs": [],
   "source": [
    "def base_model(func):\n",
    "    Variable_feautures = ['posteam_timeouts_remaining','defteam_timeouts_remaining','no_score_prob',\n",
    "              'total_home_epa','total_away_epa','fg_prob','td_prob','total_home_rush_epa',\n",
    "                'total_away_rush_epa','total_home_pass_epa','total_away_pass_epa']\n",
    "\n",
    "    categorical_feautures = ['quarter_seconds_remaining','posteam_score','defteam_score','posteam', 'defteam', 'month','year','day','qtr', 'down','goal_to_go',\n",
    "                            '10yrdrange','score_5','minutes_remain','ydstogo','score_differential','yardline_100'\n",
    "                            ,'home_team','away_team']\n",
    "\n",
    "## Prepare the data\n",
    "    features = use_ful_col\n",
    "    \n",
    "    numeric_transformer = Pipeline(steps=[\n",
    "        ('null_imputer', SimpleImputer(strategy='median')),\n",
    "        ('standard', StandardScaler())])\n",
    "\n",
    "    categorical_transformer = Pipeline(steps=[\n",
    "        ('null_string_imputer', SimpleImputer(strategy='constant', fill_value='missing')),\n",
    "        ('onehot', OneHotEncoder(handle_unknown='ignore'))])\n",
    "\n",
    "    preprocessor = ColumnTransformer(\n",
    "        transformers=[\n",
    "            ('numeriacl', numeric_transformer, Variable_feautures),\n",
    "            ('categoral', categorical_transformer, categorical_feautures)])\n",
    "\n",
    "    clf = Pipeline(steps=[('preprocessor', preprocessor),\n",
    "                          ('classifier', func)])\n",
    "\n",
    "    return clf"
   ]
  },
  {
   "cell_type": "markdown",
   "metadata": {},
   "source": [
    "## Linear SVC "
   ]
  },
  {
   "cell_type": "code",
   "execution_count": 797,
   "metadata": {},
   "outputs": [
    {
     "name": "stderr",
     "output_type": "stream",
     "text": [
      "/Library/Frameworks/Python.framework/Versions/3.6/lib/python3.6/site-packages/sklearn/svm/base.py:929: ConvergenceWarning: Liblinear failed to converge, increase the number of iterations.\n",
      "  \"the number of iterations.\", ConvergenceWarning)\n"
     ]
    },
    {
     "data": {
      "text/plain": [
       "0.6924406414688049"
      ]
     },
     "execution_count": 797,
     "metadata": {},
     "output_type": "execute_result"
    }
   ],
   "source": [
    "clf  = base_model(LinearSVC())\n",
    "clf.fit(new_df, boss_df['play_type'])\n",
    "pred = clf.predict(new_df1)\n",
    "sum(pred == df1['play_type'])/len(pred)"
   ]
  },
  {
   "cell_type": "markdown",
   "metadata": {},
   "source": [
    "## LOGISTIC regression"
   ]
  },
  {
   "cell_type": "code",
   "execution_count": 804,
   "metadata": {},
   "outputs": [
    {
     "name": "stderr",
     "output_type": "stream",
     "text": [
      "/Library/Frameworks/Python.framework/Versions/3.6/lib/python3.6/site-packages/sklearn/linear_model/logistic.py:432: FutureWarning: Default solver will be changed to 'lbfgs' in 0.22. Specify a solver to silence this warning.\n",
      "  FutureWarning)\n",
      "/Library/Frameworks/Python.framework/Versions/3.6/lib/python3.6/site-packages/sklearn/linear_model/logistic.py:469: FutureWarning: Default multi_class will be changed to 'auto' in 0.22. Specify the multi_class option to silence this warning.\n",
      "  \"this warning.\", FutureWarning)\n"
     ]
    },
    {
     "data": {
      "text/plain": [
       "0.6985606618688729"
      ]
     },
     "execution_count": 804,
     "metadata": {},
     "output_type": "execute_result"
    }
   ],
   "source": [
    "\n",
    "clf  = base_model(LogisticRegression(fit_intercept = True, C = 1))\n",
    "clf.fit(new_df, boss_df['play_type'])\n",
    "pred1 = clf.predict(new_df1)\n",
    "(sum(pred1 == df1['play_type'])/len(pred1))\n"
   ]
  },
  {
   "cell_type": "markdown",
   "metadata": {},
   "source": [
    "## Random Forest"
   ]
  },
  {
   "cell_type": "code",
   "execution_count": 806,
   "metadata": {},
   "outputs": [
    {
     "name": "stderr",
     "output_type": "stream",
     "text": [
      "/Library/Frameworks/Python.framework/Versions/3.6/lib/python3.6/site-packages/sklearn/ensemble/forest.py:245: FutureWarning: The default value of n_estimators will change from 10 in version 0.20 to 100 in 0.22.\n",
      "  \"10 in version 0.20 to 100 in 0.22.\", FutureWarning)\n"
     ]
    },
    {
     "data": {
      "text/plain": [
       "0.6884172947243158"
      ]
     },
     "execution_count": 806,
     "metadata": {},
     "output_type": "execute_result"
    }
   ],
   "source": [
    "clf  = base_model(RandomForestClassifier())\n",
    "clf.fit(new_df, boss_df['play_type'])\n",
    "pred1 = clf.predict(new_df1)\n",
    "(sum(pred1 == df1['play_type'])/len(pred1))"
   ]
  },
  {
   "cell_type": "markdown",
   "metadata": {},
   "source": [
    "## MLP CLASSIFIER "
   ]
  },
  {
   "cell_type": "code",
   "execution_count": null,
   "metadata": {},
   "outputs": [],
   "source": [
    "clf  = base_model(MLPClassifier(activation = 'logistic', solver = 'lbfgs'))\n",
    "clf.fit(new_df, boss_df['play_type'])\n",
    "pred1 = clf.predict(new_df1)\n",
    "(sum(pred1 == df1['play_type'])/len(pred1))"
   ]
  },
  {
   "cell_type": "code",
   "execution_count": null,
   "metadata": {},
   "outputs": [],
   "source": []
  }
 ],
 "metadata": {
  "kernelspec": {
   "display_name": "Python 3",
   "language": "python",
   "name": "python3"
  },
  "language_info": {
   "codemirror_mode": {
    "name": "ipython",
    "version": 3
   },
   "file_extension": ".py",
   "mimetype": "text/x-python",
   "name": "python",
   "nbconvert_exporter": "python",
   "pygments_lexer": "ipython3",
   "version": "3.6.4"
  }
 },
 "nbformat": 4,
 "nbformat_minor": 4
}
